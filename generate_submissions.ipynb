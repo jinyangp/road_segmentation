{
 "cells": [
  {
   "cell_type": "markdown",
   "id": "78e64ce6",
   "metadata": {},
   "source": [
    "# Summary\n",
    "\n",
    "**Public link to notebook: https://www.kaggle.com/jinyangpeh/generate-submissions-ipynb**\n",
    "\n",
    "This notebook contains the implementation code to generate the submission.csv file and was originally ran on Kaggle.\n",
    "\n",
    "All necessary code can be found in the accompanying datasets made public with this notebook. To generate the submission, simply run all the cells. The predicted semantic maps and submission.csv file can be found in the **Output**."
   ]
  },
  {
   "cell_type": "code",
   "execution_count": 1,
   "id": "7900aa10",
   "metadata": {
    "execution": {
     "iopub.execute_input": "2023-12-14T13:01:36.188417Z",
     "iopub.status.busy": "2023-12-14T13:01:36.187701Z",
     "iopub.status.idle": "2023-12-14T13:01:48.688775Z",
     "shell.execute_reply": "2023-12-14T13:01:48.687602Z"
    },
    "papermill": {
     "duration": 12.508381,
     "end_time": "2023-12-14T13:01:48.691012",
     "exception": false,
     "start_time": "2023-12-14T13:01:36.182631",
     "status": "completed"
    },
    "tags": []
   },
   "outputs": [
    {
     "name": "stdout",
     "output_type": "stream",
     "text": [
      "Collecting patchify\n",
      "\n",
      "  Downloading patchify-0.2.3-py3-none-any.whl (6.6 kB)\n",
      "\n",
      "Requirement already satisfied: numpy<2,>=1 in /opt/conda/lib/python3.10/site-packages (from patchify) (1.24.3)\n",
      "\n",
      "Installing collected packages: patchify\n",
      "\n",
      "Successfully installed patchify-0.2.3\n",
      "\n",
      "Note: you may need to restart the kernel to use updated packages.\n"
     ]
    }
   ],
   "source": [
    "pip install patchify"
   ]
  },
  {
   "cell_type": "code",
   "execution_count": 2,
   "id": "95a16e7e",
   "metadata": {
    "_cell_guid": "b1076dfc-b9ad-4769-8c92-a6c4dae69d19",
    "_uuid": "8f2839f25d086af736a60e9eeb907d3b93b6e0e5",
    "execution": {
     "iopub.execute_input": "2023-12-14T13:01:48.700198Z",
     "iopub.status.busy": "2023-12-14T13:01:48.699866Z",
     "iopub.status.idle": "2023-12-14T13:02:01.239223Z",
     "shell.execute_reply": "2023-12-14T13:02:01.238281Z"
    },
    "papermill": {
     "duration": 12.54698,
     "end_time": "2023-12-14T13:02:01.242035",
     "exception": false,
     "start_time": "2023-12-14T13:01:48.695055",
     "status": "completed"
    },
    "tags": []
   },
   "outputs": [
    {
     "name": "stderr",
     "output_type": "stream",
     "text": [
      "/opt/conda/lib/python3.10/site-packages/scipy/__init__.py:146: UserWarning: A NumPy version >=1.16.5 and <1.23.0 is required for this version of SciPy (detected version 1.24.3\n",
      "\n",
      "  warnings.warn(f\"A NumPy version >={np_minversion} and <{np_maxversion}\"\n"
     ]
    }
   ],
   "source": [
    "import tensorflow as tf\n",
    "import matplotlib.pyplot as plt\n",
    "import numpy as np\n",
    "from PIL import Image\n",
    "\n",
    "import os\n",
    "import sys\n",
    "\n",
    "sys.path.append(os.path.join(os.getcwd(), '..', 'input', 'cbam-unet'))\n",
    "sys.path.append(os.path.join(os.getcwd(), '..', 'input', 'road-segmentation-data-loader'))\n",
    "sys.path.append(os.path.join(os.getcwd(), '..', 'input', 'cbamunet-submission-generation'))\n",
    "\n",
    "from cbam_unet import *\n",
    "from load_data import *\n",
    "from mask_to_submission import *\n",
    "\n",
    "# %load_ext autoreload\n",
    "# %autoreload 2"
   ]
  },
  {
   "cell_type": "code",
   "execution_count": 3,
   "id": "b061ab6e",
   "metadata": {
    "execution": {
     "iopub.execute_input": "2023-12-14T13:02:01.251541Z",
     "iopub.status.busy": "2023-12-14T13:02:01.251002Z",
     "iopub.status.idle": "2023-12-14T13:02:01.639266Z",
     "shell.execute_reply": "2023-12-14T13:02:01.638388Z"
    },
    "papermill": {
     "duration": 0.395704,
     "end_time": "2023-12-14T13:02:01.641864",
     "exception": false,
     "start_time": "2023-12-14T13:02:01.246160",
     "status": "completed"
    },
    "tags": []
   },
   "outputs": [
    {
     "name": "stdout",
     "output_type": "stream",
     "text": [
      "2.13.0\n",
      "\n",
      "[PhysicalDevice(name='/physical_device:GPU:0', device_type='GPU')]\n",
      "\n",
      "PhysicalDevice(name='/physical_device:GPU:0', device_type='GPU')\n"
     ]
    }
   ],
   "source": [
    "print(tf.version.VERSION)\n",
    "print(tf.config.list_physical_devices('GPU'))\n",
    "\n",
    "# Prevent automatic GPU memory pre-allocation\n",
    "gpus = tf.config.experimental.list_physical_devices('GPU')\n",
    "for gpu in gpus:\n",
    "    print(gpu)\n",
    "    tf.config.experimental.set_memory_growth(gpu, True)"
   ]
  },
  {
   "cell_type": "code",
   "execution_count": 4,
   "id": "ec145a18",
   "metadata": {
    "execution": {
     "iopub.execute_input": "2023-12-14T13:02:01.651044Z",
     "iopub.status.busy": "2023-12-14T13:02:01.650741Z",
     "iopub.status.idle": "2023-12-14T13:02:01.656313Z",
     "shell.execute_reply": "2023-12-14T13:02:01.655452Z"
    },
    "papermill": {
     "duration": 0.012271,
     "end_time": "2023-12-14T13:02:01.658263",
     "exception": false,
     "start_time": "2023-12-14T13:02:01.645992",
     "status": "completed"
    },
    "tags": []
   },
   "outputs": [],
   "source": [
    "# Directory paths\n",
    "train_imgs_dir = os.path.join(os.path.dirname(os.getcwd()), 'input', 'road-segmentation-ds', 'training', 'images')\n",
    "train_gts_dir = os.path.join(os.path.dirname(os.getcwd()), 'input', 'road-segmentation-ds', 'training', 'groundtruth')\n",
    "test_imgs_dir = os.path.join(os.path.dirname(os.getcwd()), 'input', 'road-segmentation-ds', 'test', 'image')"
   ]
  },
  {
   "cell_type": "code",
   "execution_count": 5,
   "id": "4d7ab876",
   "metadata": {
    "execution": {
     "iopub.execute_input": "2023-12-14T13:02:01.667402Z",
     "iopub.status.busy": "2023-12-14T13:02:01.666687Z",
     "iopub.status.idle": "2023-12-14T13:02:01.672430Z",
     "shell.execute_reply": "2023-12-14T13:02:01.671588Z"
    },
    "papermill": {
     "duration": 0.01219,
     "end_time": "2023-12-14T13:02:01.674233",
     "exception": false,
     "start_time": "2023-12-14T13:02:01.662043",
     "status": "completed"
    },
    "tags": []
   },
   "outputs": [],
   "source": [
    "def get_imgs_from_dir(img_dir):\n",
    "    \n",
    "    '''Returns a tf dataset from the directory of images'''\n",
    "    imgs = []\n",
    "    for i in range(1,51):\n",
    "        img_fp = 'test_' + '%.3d' % (i)  + '.png'\n",
    "        img_filename = os.path.join(test_imgs_dir, img_fp)\n",
    "        imgs.append(img_filename)\n",
    "\n",
    "    imgs_ds = tf.data.Dataset.from_tensor_slices(imgs)\n",
    "    imgs_ds = imgs_ds.map(load_image)\n",
    "    \n",
    "    return imgs_ds"
   ]
  },
  {
   "cell_type": "code",
   "execution_count": 6,
   "id": "bcdae6d0",
   "metadata": {
    "execution": {
     "iopub.execute_input": "2023-12-14T13:02:01.682726Z",
     "iopub.status.busy": "2023-12-14T13:02:01.682478Z",
     "iopub.status.idle": "2023-12-14T13:02:05.992557Z",
     "shell.execute_reply": "2023-12-14T13:02:05.991462Z"
    },
    "papermill": {
     "duration": 4.316925,
     "end_time": "2023-12-14T13:02:05.994965",
     "exception": false,
     "start_time": "2023-12-14T13:02:01.678040",
     "status": "completed"
    },
    "tags": []
   },
   "outputs": [],
   "source": [
    "# Get class weights\n",
    "road_pixel_prop, bg_pixel_prop = get_class_weights(train_imgs_dir, train_gts_dir)\n",
    "ROAD_WEIGHT = 1./road_pixel_prop\n",
    "BG_WEIGHT = 1./bg_pixel_prop\n",
    "\n",
    "# Load in test images\n",
    "test_imgs_ds = get_imgs_from_dir(test_imgs_dir)\n",
    "len_before_patch = len(test_imgs_ds)\n",
    "\n",
    "# Generate patches for test images\n",
    "test_imgs_patched_ds = generate_patches_imgs(test_imgs_ds, (128, 128), 0, True)\n",
    "len_after_patch = len(test_imgs_patched_ds)\n",
    "\n",
    "# Determine number of patches per image\n",
    "num_patch_per_image = len_after_patch/len_before_patch\n",
    "\n",
    "# Batch patched dataset baed on number of patches per image to batch per image\n",
    "test_imgs_patched_ds = test_imgs_patched_ds.batch(int(num_patch_per_image))\n",
    "\n",
    "test_imgs_patched = list(iter(test_imgs_patched_ds))"
   ]
  },
  {
   "cell_type": "code",
   "execution_count": 7,
   "id": "820e3743",
   "metadata": {
    "execution": {
     "iopub.execute_input": "2023-12-14T13:02:06.004633Z",
     "iopub.status.busy": "2023-12-14T13:02:06.004330Z",
     "iopub.status.idle": "2023-12-14T13:02:06.016299Z",
     "shell.execute_reply": "2023-12-14T13:02:06.015427Z"
    },
    "papermill": {
     "duration": 0.019062,
     "end_time": "2023-12-14T13:02:06.018206",
     "exception": false,
     "start_time": "2023-12-14T13:02:05.999144",
     "status": "completed"
    },
    "tags": []
   },
   "outputs": [],
   "source": [
    "def generate_submissions_patched():\n",
    "    \n",
    "    # Get class weights\n",
    "    road_pixel_prop, bg_pixel_prop = get_class_weights(train_imgs_dir, train_gts_dir)\n",
    "    ROAD_WEIGHT = 1./road_pixel_prop\n",
    "    BG_WEIGHT = 1./bg_pixel_prop\n",
    "\n",
    "    # Load in test images\n",
    "    test_imgs_ds = get_imgs_from_dir(test_imgs_dir)\n",
    "    len_before_patch = len(test_imgs_ds)\n",
    "    \n",
    "    # Generate patches for test images\n",
    "    test_imgs_patched_ds = generate_patches_imgs(test_imgs_ds, (128, 128), 0, True)\n",
    "    len_after_patch = len(test_imgs_patched_ds)\n",
    "    \n",
    "    # Determine number of patches per image\n",
    "    num_patch_per_image = len_after_patch/len_before_patch\n",
    "    \n",
    "    # Batch patched dataset baed on number of patches per image to batch per image\n",
    "    test_imgs_patched_ds = test_imgs_patched_ds.batch(int(num_patch_per_image))\n",
    "    \n",
    "    # Get original dimensions of the image\n",
    "    for img in test_imgs_ds:\n",
    "        original_shape = img.shape\n",
    "        break\n",
    "    original_height, original_width = original_shape[0], original_shape[1] \n",
    "    original_channel = 2\n",
    "    \n",
    "    # Instantiate model and load weights\n",
    "    input_shape = (None, 128, 128, 3)\n",
    "    model = CBAM_UNet(input_shape, BG_WEIGHT, ROAD_WEIGHT, 'weighted_iou')\n",
    "    inputs = tf.keras.Input(shape=input_shape[1:])\n",
    "    model.call(inputs)\n",
    "    \n",
    "    model.built = True\n",
    "    weights_filepath = os.path.join(os.path.dirname(os.getcwd()), 'input', 'cbamunet-submission-generation', 'trial5_weights.h5')\n",
    "    model.load_weights(weights_filepath)\n",
    "    \n",
    "    # Pass images through model and reconstruct full size semantic map\n",
    "    reconstructed_imgs = np.zeros(shape = (len_before_patch, original_height, original_width, original_channel), dtype = np.float32)\n",
    "    test_imgs_patched = list(iter(test_imgs_patched_ds))\n",
    "    \n",
    "    for img_no, img_patches in enumerate(test_imgs_patched):\n",
    "        output = model(img_patches)\n",
    "        reconstructed_imgs[img_no] = reconstruct_image(output, (128,128,2), (original_height, original_width, original_channel), 0, padding = True)\n",
    "        \n",
    "    test_output_filenames = []\n",
    "    # Convert the numpy array pixel values into images\n",
    "    for img_no, img_arr in enumerate(reconstructed_imgs):\n",
    "        img_arr = np.argmax(img_arr, axis = -1)\n",
    "        img_arr = (img_arr * 255).astype(np.uint8)\n",
    "        img = Image.fromarray(img_arr, mode = 'L')\n",
    "        output_filename = 'satImage_' + '%.3d' % (img_no + 1)  + '.png'\n",
    "        img.save(output_filename)\n",
    "        test_output_filenames.append(f'{os.getcwd()}/{output_filename}')\n",
    "        \n",
    "    # Use semantic maps to generate submission csv file    \n",
    "    submission_filename = 'submission.csv'\n",
    "    masks_to_submission(submission_filename, *test_output_filenames)"
   ]
  },
  {
   "cell_type": "code",
   "execution_count": 8,
   "id": "08518229",
   "metadata": {
    "execution": {
     "iopub.execute_input": "2023-12-14T13:02:06.026873Z",
     "iopub.status.busy": "2023-12-14T13:02:06.026595Z",
     "iopub.status.idle": "2023-12-14T13:02:26.460681Z",
     "shell.execute_reply": "2023-12-14T13:02:26.459717Z"
    },
    "papermill": {
     "duration": 20.441369,
     "end_time": "2023-12-14T13:02:26.463337",
     "exception": false,
     "start_time": "2023-12-14T13:02:06.021968",
     "status": "completed"
    },
    "tags": []
   },
   "outputs": [],
   "source": [
    "# To generate submissions using patched dataset\n",
    "generate_submissions_patched()"
   ]
  },
  {
   "cell_type": "code",
   "execution_count": null,
   "id": "6e044ff0",
   "metadata": {
    "papermill": {
     "duration": 0.004415,
     "end_time": "2023-12-14T13:02:26.473017",
     "exception": false,
     "start_time": "2023-12-14T13:02:26.468602",
     "status": "completed"
    },
    "tags": []
   },
   "outputs": [],
   "source": []
  }
 ],
 "metadata": {
  "kaggle": {
   "accelerator": "gpu",
   "dataSources": [
    {
     "datasetId": 4161237,
     "sourceId": 7195337,
     "sourceType": "datasetVersion"
    },
    {
     "datasetId": 4037500,
     "sourceId": 7195369,
     "sourceType": "datasetVersion"
    },
    {
     "datasetId": 4121713,
     "sourceId": 7195387,
     "sourceType": "datasetVersion"
    },
    {
     "datasetId": 4037475,
     "sourceId": 7195402,
     "sourceType": "datasetVersion"
    }
   ],
   "dockerImageVersionId": 30626,
   "isGpuEnabled": true,
   "isInternetEnabled": true,
   "language": "python",
   "sourceType": "notebook"
  },
  "kernelspec": {
   "display_name": "Python3",
   "language": "python",
   "name": "python3"
  },
  "language_info": {
   "codemirror_mode": {
    "name": "ipython",
    "version": 3
   },
   "file_extension": ".py",
   "mimetype": "text/x-python",
   "name": "python",
   "nbconvert_exporter": "python",
   "pygments_lexer": "ipython3",
   "version": "3.11.5"
  },
  "papermill": {
   "default_parameters": {},
   "duration": 56.432427,
   "end_time": "2023-12-14T13:02:29.406493",
   "environment_variables": {},
   "exception": null,
   "input_path": "__notebook__.ipynb",
   "output_path": "__notebook__.ipynb",
   "parameters": {},
   "start_time": "2023-12-14T13:01:32.974066",
   "version": "2.4.0"
  }
 },
 "nbformat": 4,
 "nbformat_minor": 5
}
